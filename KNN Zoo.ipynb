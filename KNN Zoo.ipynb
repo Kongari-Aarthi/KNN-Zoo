{
 "cells": [
  {
   "cell_type": "code",
   "execution_count": 1,
   "id": "c5f0865f",
   "metadata": {},
   "outputs": [],
   "source": [
    "import pandas as pd\n",
    "df = pd.read_csv(\"Zoo.csv\")"
   ]
  },
  {
   "cell_type": "code",
   "execution_count": 2,
   "id": "334805f1",
   "metadata": {},
   "outputs": [
    {
     "data": {
      "text/plain": [
       "['animal name',\n",
       " 'hair',\n",
       " 'feathers',\n",
       " 'eggs',\n",
       " 'milk',\n",
       " 'airborne',\n",
       " 'aquatic',\n",
       " 'predator',\n",
       " 'toothed',\n",
       " 'backbone',\n",
       " 'breathes',\n",
       " 'venomous',\n",
       " 'fins',\n",
       " 'legs',\n",
       " 'tail',\n",
       " 'domestic',\n",
       " 'catsize',\n",
       " 'type']"
      ]
     },
     "execution_count": 2,
     "metadata": {},
     "output_type": "execute_result"
    }
   ],
   "source": [
    "df.shape\n",
    "list(df)"
   ]
  },
  {
   "cell_type": "code",
   "execution_count": 3,
   "id": "abbec649",
   "metadata": {},
   "outputs": [],
   "source": [
    "from sklearn.preprocessing import LabelEncoder\n",
    "LE = LabelEncoder()\n",
    "df[\"animal name\"] = LE.fit_transform(df[\"animal name\"])"
   ]
  },
  {
   "cell_type": "code",
   "execution_count": 4,
   "id": "8ca4c177",
   "metadata": {},
   "outputs": [],
   "source": [
    "# step2 : split as x and y\n",
    "\n",
    "Y = df[\"type\"]\n",
    "X = df.iloc[:,0:17]"
   ]
  },
  {
   "cell_type": "code",
   "execution_count": 5,
   "id": "6efdd151",
   "metadata": {},
   "outputs": [],
   "source": [
    "# step3 : Applying the standardization\n",
    "from sklearn.preprocessing import StandardScaler  # Minmaxscaler\n",
    "SS = StandardScaler()\n",
    "X_scale = SS.fit_transform(X)"
   ]
  },
  {
   "cell_type": "code",
   "execution_count": 6,
   "id": "81364f3b",
   "metadata": {},
   "outputs": [],
   "source": [
    "# step4 :  Train and test split\n",
    "from sklearn.model_selection import train_test_split\n",
    "X_train,X_test, Y_train, Y_test  = train_test_split(X_scale,Y, test_size=0.3)"
   ]
  },
  {
   "cell_type": "code",
   "execution_count": 7,
   "id": "5450f30e",
   "metadata": {},
   "outputs": [],
   "source": [
    "# step5: model fitting\n",
    "from sklearn.neighbors import KNeighborsClassifier\n",
    "KNN = KNeighborsClassifier(n_neighbors=11, p=2)"
   ]
  },
  {
   "cell_type": "code",
   "execution_count": 8,
   "id": "105f8ff1",
   "metadata": {},
   "outputs": [
    {
     "data": {
      "text/plain": [
       "KNeighborsClassifier(n_neighbors=11)"
      ]
     },
     "execution_count": 8,
     "metadata": {},
     "output_type": "execute_result"
    }
   ],
   "source": [
    "KNN.fit(X_train,Y_train)\n"
   ]
  },
  {
   "cell_type": "code",
   "execution_count": 9,
   "id": "d231c6ef",
   "metadata": {},
   "outputs": [
    {
     "name": "stderr",
     "output_type": "stream",
     "text": [
      "C:\\Users\\konga_21xqbnk\\anaconda3\\lib\\site-packages\\sklearn\\neighbors\\_classification.py:228: FutureWarning: Unlike other reduction functions (e.g. `skew`, `kurtosis`), the default behavior of `mode` typically preserves the axis it acts along. In SciPy 1.11.0, this behavior will change: the default value of `keepdims` will become False, the `axis` over which the statistic is taken will be eliminated, and the value None will no longer be accepted. Set `keepdims` to True or False to avoid this warning.\n",
      "  mode, _ = stats.mode(_y[neigh_ind, k], axis=1)\n",
      "C:\\Users\\konga_21xqbnk\\anaconda3\\lib\\site-packages\\sklearn\\neighbors\\_classification.py:228: FutureWarning: Unlike other reduction functions (e.g. `skew`, `kurtosis`), the default behavior of `mode` typically preserves the axis it acts along. In SciPy 1.11.0, this behavior will change: the default value of `keepdims` will become False, the `axis` over which the statistic is taken will be eliminated, and the value None will no longer be accepted. Set `keepdims` to True or False to avoid this warning.\n",
      "  mode, _ = stats.mode(_y[neigh_ind, k], axis=1)\n"
     ]
    }
   ],
   "source": [
    "Y_pred_train = KNN.predict(X_train)\n",
    "Y_pred_test =  KNN.predict(X_test)"
   ]
  },
  {
   "cell_type": "code",
   "execution_count": 10,
   "id": "2f44ccc4",
   "metadata": {},
   "outputs": [
    {
     "name": "stdout",
     "output_type": "stream",
     "text": [
      "Accuracy score for Training data: 0.93\n",
      "Accuracy score for Test data: 0.81\n"
     ]
    }
   ],
   "source": [
    "# step6 : metrics\n",
    "from sklearn.metrics import accuracy_score\n",
    "ac1 = accuracy_score(Y_train,Y_pred_train)\n",
    "print(\"Accuracy score for Training data:\", ac1.round(2))\n",
    "ac2 = accuracy_score(Y_test,Y_pred_test)\n",
    "print(\"Accuracy score for Test data:\", ac2.round(2))"
   ]
  },
  {
   "cell_type": "code",
   "execution_count": null,
   "id": "22f1b962",
   "metadata": {},
   "outputs": [],
   "source": []
  }
 ],
 "metadata": {
  "kernelspec": {
   "display_name": "Python 3 (ipykernel)",
   "language": "python",
   "name": "python3"
  },
  "language_info": {
   "codemirror_mode": {
    "name": "ipython",
    "version": 3
   },
   "file_extension": ".py",
   "mimetype": "text/x-python",
   "name": "python",
   "nbconvert_exporter": "python",
   "pygments_lexer": "ipython3",
   "version": "3.9.13"
  }
 },
 "nbformat": 4,
 "nbformat_minor": 5
}
